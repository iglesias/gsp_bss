{
 "cells": [
  {
   "cell_type": "code",
   "execution_count": 77,
   "metadata": {},
   "outputs": [],
   "source": [
    "using LightGraphs\n",
    "using PyPlot: spy\n",
    "using StatsBase: fit, Histogram"
   ]
  },
  {
   "cell_type": "code",
   "execution_count": 78,
   "metadata": {},
   "outputs": [
    {
     "data": {
      "text/plain": [
       "connected_erdos_renyi (generic function with 1 method)"
      ]
     },
     "execution_count": 78,
     "metadata": {},
     "output_type": "execute_result"
    }
   ],
   "source": [
    "function connected_erdos_renyi(N, p)\n",
    "    \n",
    "    is_connected_flag = false\n",
    "    A = zeros(N, N);\n",
    "    \n",
    "    while !is_connected_flag\n",
    "        for i = 2:N\n",
    "            A[i, 1:i-1] = rand(i-1) .< p;\n",
    "        end\n",
    "\n",
    "        A += A';\n",
    "        \n",
    "        # Ensure connectivity.\n",
    "        \n",
    "        # Degree matrix.\n",
    "        D = diagm(vec(sum(A, 1)));\n",
    "        # Laplacian matrix.\n",
    "        L = D - A;\n",
    "        \n",
    "        F = eigfact(L);\n",
    "        λ = F[:values];\n",
    "        \n",
    "        connected = λ[2] > 1e-6;\n",
    "        if connected\n",
    "            is_connected_flag = true;\n",
    "        else\n",
    "            A = zeros(N, N);\n",
    "        end\n",
    "    end\n",
    "    \n",
    "    return A;\n",
    "end"
   ]
  },
  {
   "cell_type": "code",
   "execution_count": 79,
   "metadata": {},
   "outputs": [],
   "source": [
    "N = 100\n",
    "p = 0.2;\n",
    "A = connected_erdos_renyi(N, p);\n",
    "\n",
    "F = eigfact(A);\n",
    "V = F[:vectors];\n",
    "λ = F[:values];\n",
    "println(\"Second smallest eigenvalue: \", sort(λ)[2], '.')"
   ]
  },
  {
   "cell_type": "code",
   "execution_count": 80,
   "metadata": {},
   "outputs": [
    {
     "data": {
      "image/png": "[encoded data removed]",
      "text/plain": [
       "PyPlot.Figure(PyObject <Figure size 640x480 with 1 Axes>)"
      ]
     },
     "metadata": {},
     "output_type": "display_data"
    },
    {
     "data": {
      "text/plain": [
       "PyObject <matplotlib.image.AxesImage object at 0x7fe5b27042d0>"
      ]
     },
     "execution_count": 80,
     "metadata": {},
     "output_type": "execute_result"
    },
    {
     "name": "stdout",
     "output_type": "stream",
     "text": [
      "Second smallest eigenvalue: -7.584795608750838.\n"
     ]
    }
   ],
   "source": [
    "spy(A)"
   ]
  },
  {
   "cell_type": "code",
   "execution_count": 81,
   "metadata": {},
   "outputs": [],
   "source": [
    "# Orthogonality sanity-check.\n",
    "assert(sum(inv(V) - V')/prod(size(V)) < 1e-6)"
   ]
  },
  {
   "cell_type": "code",
   "execution_count": 82,
   "metadata": {},
   "outputs": [],
   "source": [
    "U = V';"
   ]
  },
  {
   "cell_type": "code",
   "execution_count": 83,
   "metadata": {},
   "outputs": [
    {
     "data": {
      "text/plain": [
       "100×100 Array{Float64,2}:\n",
       "  1.19034       0.107613    -0.0725515   …   0.0712789    0.0462101 \n",
       "  0.107613      1.07898      0.00485875      0.024738     0.0848555 \n",
       " -0.0725515     0.00485875   1.13356        -0.0252202   -0.0137589 \n",
       "  0.0997914     0.0780972   -0.0835692       0.0963595    0.0942552 \n",
       " -0.0606682     0.0731983    0.0295642       0.0582236    0.0728213 \n",
       "  0.00984144    0.169783    -0.110665    …  -0.0703651   -0.136494  \n",
       " -0.0719265    -0.114734     0.211431       -0.0194887    0.00944042\n",
       "  0.0932307     0.0560324   -0.0832677      -0.0646206    0.0263819 \n",
       "  0.0303694    -0.115251    -0.0735629      -0.0323981    0.0810068 \n",
       "  0.00144668   -0.145379     0.123033       -0.209982    -0.0754171 \n",
       " -0.0472823     0.00111687   0.0710048   …   0.138846    -0.0746518 \n",
       " -0.124268     -0.153435    -0.0884417      -0.0743292    0.1333    \n",
       " -0.00872985    0.0418684    0.105875        0.201224    -0.00949629\n",
       "  ⋮                                      ⋱                          \n",
       "  0.0859188    -0.026911     0.136397        0.00143209  -0.0497423 \n",
       "  0.144448     -0.0857262   -0.105005        0.0322141    0.184658  \n",
       " -0.050566      0.0239492    0.165687    …   0.068886    -0.00137656\n",
       "  0.000366439  -0.12082     -0.123623        0.0579516    0.0149461 \n",
       "  0.0137138     0.21085     -0.09749        -0.00808958   0.00694188\n",
       " -0.0904404     0.00275544  -0.0269496      -0.0670301    0.0135374 \n",
       "  0.182938      0.00758741   0.0428276      -0.0155443    0.0220065 \n",
       "  0.00406365   -0.160665    -0.155883    …  -0.100698    -0.114846  \n",
       " -0.138345     -0.0207153   -0.0239017      -0.159851     0.142148  \n",
       "  0.180638     -0.023731     0.0142997       0.0764217    0.122916  \n",
       "  0.0712789     0.024738    -0.0252202       0.984383    -0.0303444 \n",
       "  0.0462101     0.0848555   -0.0137589      -0.0303444    1.04905   "
      ]
     },
     "execution_count": 83,
     "metadata": {},
     "output_type": "execute_result"
    }
   ],
   "source": [
    "# Build random unitary matrix.\n",
    "idxs = rand(1:N, N);\n",
    "Utilde = U[idxs, :];\n",
    "\n",
    "# Compute expected value.\n",
    "E_Utilde = zeros(N, N);\n",
    "for i = 1:N\n",
    "    E_Utilde += Utilde[i,:]*Utilde[i,:]';\n",
    "end\n",
    "\n",
    "E_Utilde"
   ]
  },
  {
   "cell_type": "code",
   "execution_count": 84,
   "metadata": {},
   "outputs": [
    {
     "data": {
      "text/plain": [
       "100×100 Array{Float64,2}:\n",
       "  1.0          -3.98986e-16  -3.94303e-15  …   4.65687e-15  -1.75034e-15\n",
       " -3.98986e-16   1.0           1.59248e-15     -1.36436e-15  -1.73125e-15\n",
       " -3.94303e-15   1.59248e-15   1.0             -4.28477e-16   1.13451e-15\n",
       "  1.83707e-15  -2.57693e-15  -7.14706e-16     -1.70523e-15  -1.10936e-15\n",
       "  1.81886e-15  -5.13478e-16   1.22818e-15     -8.30933e-16   1.45543e-15\n",
       "  3.46424e-15  -2.05912e-15   7.14706e-16  …  -7.1991e-16    6.66134e-16\n",
       " -1.00614e-16   1.11196e-15   9.1073e-16      -1.9082e-15    4.96651e-15\n",
       " -1.9082e-15    8.67362e-16   6.38899e-15      4.43569e-15   2.1684e-15 \n",
       " -2.79724e-15  -1.43982e-15  -4.09568e-15      3.71578e-15  -8.67362e-17\n",
       " -1.64452e-15   1.68789e-15   1.18655e-15     -1.22298e-15   1.27849e-15\n",
       "  3.30812e-15   4.329e-15    -1.78677e-16  …  -6.33174e-16  -1.9186e-15 \n",
       " -1.31319e-15   1.35655e-15   1.249e-16       -4.02456e-16  -1.3687e-15 \n",
       "  2.33234e-15  -2.94036e-16   9.22873e-16     -6.7394e-16    2.00274e-15\n",
       "  ⋮                                        ⋱                            \n",
       " -6.50521e-17   1.15619e-15  -4.05925e-15     -2.06692e-15   1.77983e-15\n",
       " -3.52929e-15   5.1608e-16    2.73913e-15      1.79023e-15   9.01189e-16\n",
       "  5.09141e-15   9.04658e-16  -5.15386e-15  …   3.88491e-15   1.2013e-15 \n",
       " -4.05925e-16   1.6237e-15    2.22392e-15     -3.31506e-15   1.94289e-16\n",
       " -1.13624e-16   8.13585e-16   3.67414e-15     -1.90126e-15  -3.25434e-15\n",
       " -2.93168e-16  -2.20657e-15  -3.85803e-15      4.4513e-15    2.00534e-15\n",
       " -1.7087e-15   -2.2482e-15    3.88318e-15     -2.55004e-15  -1.90299e-15\n",
       " -4.80779e-15  -1.8336e-15    1.18308e-15  …  -2.78597e-15  -4.27956e-15\n",
       " -4.1165e-15    1.35482e-15   1.2837e-15      -2.52749e-15  -2.02789e-15\n",
       "  2.5327e-16   -7.26849e-16  -2.60209e-15      2.8675e-15    1.04604e-15\n",
       "  4.65687e-15  -1.36436e-15  -4.28477e-16      1.0          -2.13371e-16\n",
       " -1.75034e-15  -1.73125e-15   1.13451e-15     -2.13371e-16   1.0        "
      ]
     },
     "execution_count": 84,
     "metadata": {},
     "output_type": "execute_result"
    }
   ],
   "source": [
    "# Compute expected value.\n",
    "E_U = zeros(N, N);\n",
    "for i = 1:N\n",
    "    E_U += U[i,:]*U[i,:]';\n",
    "end\n",
    "\n",
    "E_U"
   ]
  },
  {
   "cell_type": "code",
   "execution_count": 85,
   "metadata": {},
   "outputs": [
    {
     "name": "stdout",
     "output_type": "stream",
     "text": [
      "-0.0007954446920323369 0.010000367304472364\n",
      "-0.0011576627272500196 0.009999659782988234\n"
     ]
    }
   ],
   "source": [
    "#h = fit(Histogram, U[:])\n",
    "println(mean(Utilde[:]), ' ', var(Utilde[:]))\n",
    "println(mean(U[:]), ' ', var(U[:]))"
   ]
  }
 ],
 "metadata": {
  "kernelspec": {
   "display_name": "Julia 0.6.2",
   "language": "julia",
   "name": "julia-0.6"
  },
  "language_info": {
   "file_extension": ".jl",
   "mimetype": "application/julia",
   "name": "julia",
   "version": "0.6.2"
  }
 },
 "nbformat": 4,
 "nbformat_minor": 2
}
